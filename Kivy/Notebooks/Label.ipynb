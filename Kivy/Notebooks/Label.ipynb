{
 "cells": [
  {
   "cell_type": "code",
   "execution_count": null,
   "metadata": {},
   "outputs": [],
   "source": [
    "# Boilerplate\n",
    "\n",
    "from kivy.app import App\n",
    "\n",
    "from kivy.lang import Builder\n",
    "\n",
    "from kivy.uix.button import Button\n",
    "\n",
    "from kivy.interactive import InteractiveLauncher\n",
    "\n",
    "\n",
    "# Desativando full screen\n",
    "\n",
    "from kivy.config import Config\n",
    "\n",
    "Config.set ( 'graphics', 'fullscreen', 0 )\n",
    "\n",
    "\n",
    "Janela = None\n",
    "\n",
    "Glayout = None\n"
   ]
  },
  {
   "cell_type": "code",
   "execution_count": null,
   "metadata": {
    "collapsed": true
   },
   "outputs": [],
   "source": [
    "class JanelaApp ( App ) :\n",
    "    pass\n",
    "\n",
    "Janela = JanelaApp ()\n",
    "\n",
    "Ji = InteractiveLauncher ( Janela )\n",
    "\n",
    "Ji.run ()"
   ]
  },
  {
   "cell_type": "code",
   "execution_count": null,
   "metadata": {
    "collapsed": true
   },
   "outputs": [],
   "source": []
  },
  {
   "cell_type": "code",
   "execution_count": null,
   "metadata": {
    "collapsed": true
   },
   "outputs": [],
   "source": []
  },
  {
   "cell_type": "code",
   "execution_count": null,
   "metadata": {
    "collapsed": true
   },
   "outputs": [],
   "source": []
  },
  {
   "cell_type": "code",
   "execution_count": null,
   "metadata": {
    "collapsed": true
   },
   "outputs": [],
   "source": [
    "kvcode = '''\n",
    "\n",
    "StackLayout:\n",
    "    \n",
    "    orientatio: 'bt-lr'\n",
    "    \n",
    "    padding: 50\n",
    "    \n",
    "'''\n",
    "\n",
    "# Removendo o widget para adicionar o novo com a mudança realizada\n",
    "\n",
    "if Janela.root :\n",
    "    \n",
    "    Janela.root_window.remove_widget ( Janela.root )\n",
    "    \n",
    "    Janela.root = None # Libera a instância criada anteriormente\n",
    "    \n",
    "    Glayout = None # por causa do garbage collector\n",
    "\n",
    "Janela.root = Glayout = Builder.load_string ( kvcode )\n",
    "\n",
    "Janela.root_window.add_widget ( Glayout )"
   ]
  },
  {
   "cell_type": "code",
   "execution_count": null,
   "metadata": {
    "collapsed": true
   },
   "outputs": [],
   "source": []
  },
  {
   "cell_type": "code",
   "execution_count": null,
   "metadata": {
    "collapsed": true
   },
   "outputs": [],
   "source": [
    "from kivy.uix.label import Label\n",
    "\n",
    "def addlb ( ** kargs ) :\n",
    "    \n",
    "    lb = Label (\n",
    "        text = 'Test',\n",
    "        size_hint_y = None,\n",
    "        height = 20,\n",
    "        ** kargs\n",
    "    )\n",
    "    \n",
    "    Glayout.add_widget ( lb )\n",
    "    \n",
    "    return lb"
   ]
  },
  {
   "cell_type": "code",
   "execution_count": null,
   "metadata": {
    "collapsed": true
   },
   "outputs": [],
   "source": []
  },
  {
   "cell_type": "code",
   "execution_count": null,
   "metadata": {
    "collapsed": true
   },
   "outputs": [],
   "source": []
  },
  {
   "cell_type": "code",
   "execution_count": null,
   "metadata": {
    "collapsed": true,
    "scrolled": true
   },
   "outputs": [],
   "source": [
    "# determina o tamanho da fonte\n",
    "addlb ().font_size = 10"
   ]
  },
  {
   "cell_type": "code",
   "execution_count": null,
   "metadata": {
    "collapsed": true
   },
   "outputs": [],
   "source": []
  },
  {
   "cell_type": "code",
   "execution_count": null,
   "metadata": {
    "collapsed": true
   },
   "outputs": [],
   "source": [
    "# determina a fonte\n",
    "# addlb ().font_name = 'consola'"
   ]
  },
  {
   "cell_type": "code",
   "execution_count": null,
   "metadata": {
    "collapsed": true
   },
   "outputs": [],
   "source": []
  },
  {
   "cell_type": "code",
   "execution_count": null,
   "metadata": {
    "collapsed": true
   },
   "outputs": [],
   "source": [
    "# determina que o texto deve ser em negrito\n",
    "addlb ().bold = True"
   ]
  },
  {
   "cell_type": "code",
   "execution_count": null,
   "metadata": {
    "collapsed": true
   },
   "outputs": [],
   "source": []
  },
  {
   "cell_type": "code",
   "execution_count": null,
   "metadata": {
    "collapsed": true
   },
   "outputs": [],
   "source": []
  },
  {
   "cell_type": "code",
   "execution_count": null,
   "metadata": {
    "collapsed": true
   },
   "outputs": [],
   "source": [
    "# determina que o testo é ítalico\n",
    "addlb ().italic = True"
   ]
  },
  {
   "cell_type": "code",
   "execution_count": null,
   "metadata": {
    "collapsed": true
   },
   "outputs": [],
   "source": []
  },
  {
   "cell_type": "code",
   "execution_count": null,
   "metadata": {
    "scrolled": true
   },
   "outputs": [],
   "source": [
    "# determina a cor da fonte\n",
    "addlb (font_size = 20).color = (.1,.1,.1,1)"
   ]
  },
  {
   "cell_type": "code",
   "execution_count": null,
   "metadata": {
    "collapsed": true
   },
   "outputs": [],
   "source": []
  },
  {
   "cell_type": "code",
   "execution_count": null,
   "metadata": {
    "collapsed": true
   },
   "outputs": [],
   "source": [
    "# determina que o mesmo vai estar desativado\n",
    "addlb ( font_size = 20 ).dissabled = True"
   ]
  }
 ],
 "metadata": {
  "kernelspec": {
   "display_name": "Python 3",
   "language": "python",
   "name": "python3"
  },
  "language_info": {
   "codemirror_mode": {
    "name": "ipython",
    "version": 3
   },
   "file_extension": ".py",
   "mimetype": "text/x-python",
   "name": "python",
   "nbconvert_exporter": "python",
   "pygments_lexer": "ipython3",
   "version": "3.4.3"
  }
 },
 "nbformat": 4,
 "nbformat_minor": 2
}
