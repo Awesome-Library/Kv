{
 "cells": [
  {
   "cell_type": "code",
   "execution_count": null,
   "metadata": {},
   "outputs": [],
   "source": [
    "# A importação dos pacotes se da por :\n",
    "\n",
    "from kivy.app import App\n",
    "\n",
    "# Config altera o Full Screen padrão\n",
    "\n",
    "from kivy.config import Config\n",
    "\n",
    "from kivy.uix.widget import Widget\n",
    "\n",
    "from kivy.interactive import InteractiveLauncher\n",
    "\n",
    "\n",
    "# Configurando :\n",
    "\n",
    "Config.set ( 'graphics', 'fullscreen', '0' )\n"
   ]
  },
  {
   "cell_type": "code",
   "execution_count": null,
   "metadata": {
    "collapsed": true
   },
   "outputs": [],
   "source": [
    "# Classe Gui da aplicação\n",
    "\n",
    "class Inter ( App, object ) :\n",
    "    \n",
    "    def build ( self ) :\n",
    "        \n",
    "        return Widget ( )"
   ]
  },
  {
   "cell_type": "code",
   "execution_count": null,
   "metadata": {
    "collapsed": true
   },
   "outputs": [],
   "source": [
    "# Instância da Inter / Main Loop\n",
    "\n",
    "ap = Inter ()\n",
    "\n",
    "ji = InteractiveLauncher ( ap )\n",
    "\n",
    "ji.run ()"
   ]
  },
  {
   "cell_type": "code",
   "execution_count": null,
   "metadata": {
    "collapsed": true
   },
   "outputs": [],
   "source": [
    "from kivy.uix.button import Button\n",
    "\n",
    "bt = Button ( text = 'Test' )\n",
    "\n",
    "ji.root.add_widget ( bt )"
   ]
  },
  {
   "cell_type": "code",
   "execution_count": null,
   "metadata": {},
   "outputs": [],
   "source": [
    "def chg () :\n",
    "    \n",
    "    print ( 'Hey' )\n",
    "\n",
    "bt.on_press = chg"
   ]
  }
 ],
 "metadata": {
  "kernelspec": {
   "display_name": "Python 3",
   "language": "python",
   "name": "python3"
  },
  "language_info": {
   "codemirror_mode": {
    "name": "ipython",
    "version": 3
   },
   "file_extension": ".py",
   "mimetype": "text/x-python",
   "name": "python",
   "nbconvert_exporter": "python",
   "pygments_lexer": "ipython3",
   "version": "3.4.3"
  }
 },
 "nbformat": 4,
 "nbformat_minor": 2
}
