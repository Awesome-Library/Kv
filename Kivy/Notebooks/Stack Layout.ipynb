{
 "cells": [
  {
   "cell_type": "code",
   "execution_count": null,
   "metadata": {},
   "outputs": [],
   "source": [
    "# Boilerplate\n",
    "\n",
    "from kivy.app import App\n",
    "\n",
    "from kivy.lang import Builder\n",
    "\n",
    "from kivy.uix.button import Button\n",
    "\n",
    "from kivy.interactive import InteractiveLauncher\n",
    "\n",
    "\n",
    "# Desativando full screen\n",
    "\n",
    "from kivy.config import Config\n",
    "\n",
    "Config.set ( 'graphics', 'fullscreen', 0 )\n",
    "\n",
    "\n",
    "Janela = None\n",
    "\n",
    "Glayout = None\n"
   ]
  },
  {
   "cell_type": "code",
   "execution_count": null,
   "metadata": {
    "collapsed": true
   },
   "outputs": [],
   "source": [
    "class JanelaApp ( App ) :\n",
    "    pass\n",
    "\n",
    "Janela = JanelaApp ()\n",
    "\n",
    "Ji = InteractiveLauncher ( Janela )\n",
    "\n",
    "Ji.run ()"
   ]
  },
  {
   "cell_type": "code",
   "execution_count": null,
   "metadata": {
    "collapsed": true
   },
   "outputs": [],
   "source": []
  },
  {
   "cell_type": "code",
   "execution_count": null,
   "metadata": {
    "collapsed": true
   },
   "outputs": [],
   "source": []
  },
  {
   "cell_type": "code",
   "execution_count": null,
   "metadata": {
    "collapsed": true
   },
   "outputs": [],
   "source": []
  },
  {
   "cell_type": "code",
   "execution_count": null,
   "metadata": {
    "collapsed": true
   },
   "outputs": [],
   "source": [
    "kvcode = '''\n",
    "\n",
    "StackLayout:\n",
    "    \n",
    "    orientation: 'bt-lr'\n",
    "    \n",
    "    opacity: .5\n",
    "    \n",
    "    padding: 20\n",
    "    \n",
    "    spacing: 20\n",
    "    \n",
    "    Button:\n",
    "        text: 'Btn 1'\n",
    "        size_hint: .3, .2\n",
    "    \n",
    "    Button:\n",
    "        text: 'Btn 2'\n",
    "        size_hint: .3, .2\n",
    "    \n",
    "'''\n",
    "\n",
    "# Removendo o widget para adicionar o novo com a mudança realizada\n",
    "\n",
    "if Janela.root :\n",
    "    \n",
    "    Janela.root_window.remove_widget ( Janela.root )\n",
    "    \n",
    "    Janela.root = None # Libera a instância criada anteriormente\n",
    "    \n",
    "    Glayout = None # por causa do garbage collector\n",
    "\n",
    "Janela.root = Glayout = Builder.load_string ( kvcode )\n",
    "\n",
    "Janela.root_window.add_widget ( Glayout )"
   ]
  },
  {
   "cell_type": "code",
   "execution_count": null,
   "metadata": {
    "collapsed": true
   },
   "outputs": [],
   "source": [
    "Glayout.add_widget ( Button ( text = 'Btn', size_hint = ( .3, .2)))"
   ]
  }
 ],
 "metadata": {
  "kernelspec": {
   "display_name": "Python 3",
   "language": "python",
   "name": "python3"
  },
  "language_info": {
   "codemirror_mode": {
    "name": "ipython",
    "version": 3
   },
   "file_extension": ".py",
   "mimetype": "text/x-python",
   "name": "python",
   "nbconvert_exporter": "python",
   "pygments_lexer": "ipython3",
   "version": "3.4.3"
  }
 },
 "nbformat": 4,
 "nbformat_minor": 2
}
