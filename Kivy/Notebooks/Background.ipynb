{
 "cells": [
  {
   "cell_type": "code",
   "execution_count": null,
   "metadata": {},
   "outputs": [],
   "source": [
    "# Boilerplate\n",
    "\n",
    "from kivy.app import App\n",
    "\n",
    "from kivy.lang import Builder\n",
    "\n",
    "from kivy.uix.button import Button\n",
    "\n",
    "from kivy.interactive import InteractiveLauncher\n",
    "\n",
    "\n",
    "# Desativando full screen\n",
    "\n",
    "from kivy.config import Config\n",
    "\n",
    "Config.set ( 'graphics', 'fullscreen', 0 )\n",
    "\n",
    "\n",
    "Janela = None\n",
    "\n",
    "Glayout = None\n"
   ]
  },
  {
   "cell_type": "code",
   "execution_count": null,
   "metadata": {
    "collapsed": true
   },
   "outputs": [],
   "source": [
    "class JanelaApp ( App ) :\n",
    "    pass\n",
    "\n",
    "Janela = JanelaApp ()\n",
    "\n",
    "Ji = InteractiveLauncher ( Janela )\n",
    "\n",
    "Ji.run ()"
   ]
  },
  {
   "cell_type": "code",
   "execution_count": null,
   "metadata": {
    "collapsed": true
   },
   "outputs": [],
   "source": []
  },
  {
   "cell_type": "code",
   "execution_count": null,
   "metadata": {
    "collapsed": true
   },
   "outputs": [],
   "source": []
  },
  {
   "cell_type": "code",
   "execution_count": null,
   "metadata": {
    "collapsed": true
   },
   "outputs": [],
   "source": []
  },
  {
   "cell_type": "code",
   "execution_count": null,
   "metadata": {
    "collapsed": true
   },
   "outputs": [],
   "source": [
    "kvcode = '''\n",
    "\n",
    "#:import hex kivy.utils.get_color_from_hex\n",
    "\n",
    "FloatLayout:\n",
    "    \n",
    "    Button:\n",
    "        size_hint: .3, .1\n",
    "        pos_hint: { 'center_x': .5, 'center_y': .5 }\n",
    "        background_normal: ''\n",
    "        background_color: hex ( '#35a054' )\n",
    "        text: 'Btn'\n",
    "    \n",
    "    # Quando se altera cor de widget em geral estamos utilizando canvas\n",
    "    # já o Button por exemplo estamos usando Qt\n",
    "    \n",
    "'''\n",
    "\n",
    "# Removendo o widget para adicionar o novo com a mudança realizada\n",
    "\n",
    "if Janela.root :\n",
    "    \n",
    "    Janela.root_window.remove_widget ( Janela.root )\n",
    "    \n",
    "    Janela.root = None # Libera a instância criada anteriormente por causa do garbage collector\n",
    "    \n",
    "    Glayout = None \n",
    "\n",
    "Janela.root = Glayout = Builder.load_string ( kvcode )\n",
    "\n",
    "Janela.root_window.add_widget ( Glayout )"
   ]
  },
  {
   "cell_type": "code",
   "execution_count": null,
   "metadata": {
    "collapsed": true
   },
   "outputs": [],
   "source": []
  }
 ],
 "metadata": {
  "kernelspec": {
   "display_name": "Python 3",
   "language": "python",
   "name": "python3"
  },
  "language_info": {
   "codemirror_mode": {
    "name": "ipython",
    "version": 3
   },
   "file_extension": ".py",
   "mimetype": "text/x-python",
   "name": "python",
   "nbconvert_exporter": "python",
   "pygments_lexer": "ipython3",
   "version": "3.4.3"
  }
 },
 "nbformat": 4,
 "nbformat_minor": 2
}
